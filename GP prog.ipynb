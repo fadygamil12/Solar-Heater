{
 "cells": [
  {
   "cell_type": "markdown",
   "id": "984d1140",
   "metadata": {},
   "source": [
    "## Import libraries"
   ]
  },
  {
   "cell_type": "code",
   "execution_count": 1,
   "id": "7b9c67ff",
   "metadata": {
    "scrolled": true
   },
   "outputs": [],
   "source": [
    "import math\n",
    "import pandas as pd\n",
    "import matplotlib.pyplot as plt\n",
    "import numpy as np\n",
    "from scipy.interpolate import make_interp_spline\n",
    "from scipy.integrate import simpson"
   ]
  },
  {
   "cell_type": "markdown",
   "id": "ddeda199",
   "metadata": {},
   "source": [
    "## Important functions for calculations"
   ]
  },
  {
   "cell_type": "markdown",
   "id": "d364402a",
   "metadata": {},
   "source": [
    "### Trigonometry functions in degree"
   ]
  },
  {
   "cell_type": "code",
   "execution_count": 2,
   "id": "755046ec",
   "metadata": {
    "scrolled": true
   },
   "outputs": [],
   "source": [
    "def sind(t):\n",
    "    return math.sin(math.radians(t))\n",
    "def cosd(t):\n",
    "    return math.cos(math.radians(t))\n",
    "def tand(t):\n",
    "    return math.tan(math.radians(t))\n",
    "def asind(t):\n",
    "    return math.degrees(math.asin(t))\n",
    "def acosd(t):\n",
    "    return math.degrees(math.acos(t))\n",
    "def atand(t):\n",
    "    return math.degrees(math.atan(t))"
   ]
  },
  {
   "cell_type": "markdown",
   "id": "479a795f",
   "metadata": {},
   "source": [
    "### Interpolation function"
   ]
  },
  {
   "cell_type": "code",
   "execution_count": 3,
   "id": "4afed37c",
   "metadata": {
    "scrolled": true
   },
   "outputs": [],
   "source": [
    "def interpolate(x,y):\n",
    "    X_Y_Spline = make_interp_spline(x, y)\n",
    "    X_ = np.linspace(min(x), max(x), 500)\n",
    "    Y_ = X_Y_Spline(X_)\n",
    "    return X_,Y_"
   ]
  },
  {
   "cell_type": "code",
   "execution_count": 4,
   "id": "96c617bf",
   "metadata": {
    "scrolled": true
   },
   "outputs": [],
   "source": [
    "# Declitaion angle\n",
    "def decl(n):\n",
    "    de = 23.45*sind((360*(284+n))/365)\n",
    "    return de\n",
    "# Hour angle\n",
    "def ha(st):\n",
    "    return 15*(12-st)\n",
    "\n",
    "#Theta\n",
    "def theta(beta , delta , gamma , omega , phi):\n",
    "    ca = sind(phi)*(sind(delta)*cosd(beta)+cosd(delta)*cosd(gamma)*cosd(omega)*sind(beta)) + cosd(phi)*(cosd(delta)*cosd(omega)*cosd(beta)-sind(delta)*cosd(gamma)*sind(beta)) + cosd(delta)*sind(gamma)*sind(omega)*sind(beta)\n",
    "    return acosd(ca)\n",
    "\n",
    "#Theta Z\n",
    "def theta_z(delta , gamma , omega , phi):\n",
    "    return theta(0, delta , gamma ,omega ,phi)\n",
    "\n",
    "#Tilt factor beam\n",
    "def rb(n, st , beta ,gamma, phi):\n",
    "    ca = cosd(theta(beta, decl(n), gamma, ha(st),phi))\n",
    "    caz = cosd(theta_z(decl(n), gamma, ha(st),phi))\n",
    "    rb = ca/caz\n",
    "    return rb\n",
    "\n",
    "#Tilt factor diffuse\n",
    "def rd(beta):\n",
    "    return 0.5*(1+cosd(beta))\n",
    "\n",
    "#Tilt factor reflected\n",
    "def rr(beta, rohg):\n",
    "    return (rohg/2)*(1-cosd(beta))\n",
    "\n",
    "#Theta dash\n",
    "def thetadash(ng , na , theta):\n",
    "    return asind(sind(theta)*(na/ng))\n",
    "\n",
    "#Total solar radiation flux\n",
    "def I_total(Ibh,Idh , rb , rd , rr):\n",
    "    return (Ibh*rb + Idh*rd + (Ibh+Idh)*rr)\n",
    "\n",
    "def roh1(theta , thetad):\n",
    "    return pow(sind(thetad-theta),2)/pow(sind(thetad+theta),2)\n",
    "def roh2(theta , thetad):\n",
    "    return pow(tand(thetad-theta),2)/pow(tand(thetad+theta),2)\n",
    "def tau1(roh1 , m):\n",
    "    return (1-roh1)/(1+roh1*(2*m-1))\n",
    "def tau2(roh2 , m):\n",
    "    return (1-roh2)/(1+roh2*(2*m-1))\n",
    "def tau_a(theta_d,k,delC):\n",
    "    return math.exp(-(k*delC)/cosd(theta_d))\n",
    "def alpha(theta):\n",
    "    if theta-85 > 5:\n",
    "        return 0\n",
    "    up = 0.0106944*(theta-90)*(1-0.254*pow((cosd(theta)/cosd(85)),4*(theta-85)))\n",
    "    down = pow((theta/95.406),0.9775)-1\n",
    "    if type(up/down) == complex:\n",
    "        return 0\n",
    "    else:\n",
    "        return up/down\n",
    "def tau_alp_b(tau,alpha,roh_d):\n",
    "    return (tau*alpha)/(1-(1-alpha)*roh_d)\n",
    "def tau_alp_d(theta ,ng,na,m,k,delC,roh_d):\n",
    "    td = thetadash(ng,na,theta)\n",
    "    roh_1 = roh1(theta,td)\n",
    "    roh_2 = roh2(theta,td)\n",
    "    tau_1 =  tau1(roh_1,m)\n",
    "    tau_2 =  tau2(roh_2,m)\n",
    "    taua = tau_a(td,k,delC)\n",
    "    alp = alpha(theta)\n",
    "    return tau_alp_b((taua*0.5*(tau_1+tau_2)),alp,roh_d)\n",
    "def S(Ibh, Idh, rb, rd, rr, tau_b , tau_d):\n",
    "    return (Ibh*rb*tau_b + (Idh*rd+(Ibh+Idh)*rr)*tau_d)\n",
    "def fin_eff(U,K,cpst,L):\n",
    "    m = pow((U/(K*cpst)),0.5)\n",
    "    return ((math.exp(m*L)-math.exp(-m*L))/(math.exp(m*L)+math.exp(-m*L)))/(m*L)\n",
    "def collector_eff(U,W,L,F,Do,cb,Di,hci):\n",
    "    up = 1/U\n",
    "    down1 = 1/(U*(2*L*F+Do))\n",
    "    down2 = 1/cb\n",
    "    down3 = 1/(hci*math.pi*Di)\n",
    "    return up/(W*(down1+down2+down3))\n",
    "def hear_removal_factor(mw,cw,U,fd):\n",
    "    return (mw*cw/U)*(1-math.exp((-U*fd)/(mw*cw)))"
   ]
  },
  {
   "cell_type": "code",
   "execution_count": 5,
   "id": "fef9e98e",
   "metadata": {
    "scrolled": true
   },
   "outputs": [],
   "source": [
    "st = [6,7,8,9,10,11,12,13,14,15,16,17,18]\n",
    "st_t = [6,7,8,9,10,11,12,13,14,15,16,17,18,'Daily']\n",
    "I = [\n",
    "    [[0,0,147,300,426,509,537,509,426,300,147,0,0],[0,0,56,77,91,98,98,98,91,77,56,0,0]],\n",
    "    [[0,42,216,391,502,593,621,593,502,391,216,42,0],[0,25,70,91,98,105,105,105,98,91,70,28,0]],\n",
    "    [[0,105,293,453,593,649,712,649,593,453,293,105,0],[0,49,84,98,105,105,105,105,105,98,84,49,0]],\n",
    "    [[0,160,356,523,663,747,767,747,663,523,356,160,0],[0,70,91,98,105,112,112,112,105,98,91,70,0]],\n",
    "    [[42,209,398,565,705,788,816,788,705,565,398,209,42],[42,77,98,105,105,112,112,112,105,105,98,77,42]],\n",
    "    [[63,230,412,586,705,788,816,788,705,586,412,230,63],[49,77,98,105,112,112,112,112,112,105,98,77,49]],\n",
    "    [[56,223,405,565,684,767,795,767,684,565,405,223,56],[42,77,98,105,105,112,112,112,105,105,98,77,42]],\n",
    "    [[28,188,363,530,670,753,781,753,670,530,363,188,28],[35,70,91,105,105,112,112,112,105,105,91,70,35]],\n",
    "    [[0,119,307,474,607,698,726,698,607,474,307,119,0],[0,63,84,98,105,105,112,105,105,98,84,63,0]],\n",
    "    [[0,49,223,384,516,593,628,593,516,384,223,49,0],[0,35,77,91,98,105,105,105,98,91,77,35,0]],\n",
    "    [[0,0,147,300,419,495,523,495,419,300,147,0,0],[0,0,63,84,91,98,98,98,91,84,63,0,0]],\n",
    "    [[0,0,112,265,391,460,495,460,391,265,112,0,0],[0,0,49,77,91,98,98,98,91,77,49,0,0]]\n",
    "]\n",
    "\n",
    "Twi = [14.8, 16.1, 19.4, 22.7, 24.3, 27.5, 28.5, 29.3, 27.9, 26, 21.4, 17.6]\n",
    "Ta_r = [\n",
    "    [8.8, 19.7],\n",
    "    [9.8, 21.2],\n",
    "    [11.9, 24.4],\n",
    "    [14.8, 28.5],\n",
    "    [17.5, 32.2],\n",
    "    [20.7, 34.9],\n",
    "    [22, 34.7],\n",
    "    [22.3, 34.5],\n",
    "    [20.6, 33.1],\n",
    "    [18.1, 30.6],\n",
    "    [14, 25.5],\n",
    "    [10.3, 21.1]   \n",
    "]\n",
    "DR = [98,93,84,71,56,39,23,11,3,0,3,10,21]\n",
    "avg_d = [17,47,75,105,135,162,198,228,258,288,318,334]\n",
    "months = ['January', 'February', 'March', 'April', 'May', 'June', 'July', 'August', 'September', 'October', 'November', 'December']"
   ]
  },
  {
   "cell_type": "code",
   "execution_count": 6,
   "id": "0e08e7dd",
   "metadata": {
    "scrolled": true
   },
   "outputs": [],
   "source": [
    "srs = []\n",
    "sss = []\n",
    "for i in range(12):\n",
    "        ws = -acosd(-tand(30)*tand(decl(30*i+15)))\n",
    "        sr = round(12+ws/15,2)\n",
    "        ss = round(12-(ws/15),2)\n",
    "        srs.append(sr)\n",
    "        sss.append(ss)        "
   ]
  },
  {
   "cell_type": "code",
   "execution_count": null,
   "id": "8e0b7582",
   "metadata": {
    "scrolled": true
   },
   "outputs": [],
   "source": [
    "gamma = 20\n",
    "beta = 40\n",
    "phi = 30\n",
    "n_o_c = 1\n",
    "k = 0.0068\n",
    "ng = 1.526\n",
    "na = 1\n",
    "delC = 4\n",
    "roh_g = 0.2\n",
    "U = 5\n",
    "K = 385\n",
    "cpst = 0.5/1000\n",
    "Do= 11/1000\n",
    "Di= 10/1000\n",
    "cb = 35\n",
    "W = 150/1000\n",
    "mw = 0.015\n",
    "cw = 4180\n",
    "hci = 300\n",
    "twh=55\n",
    "vw = 220\n",
    "Twh=55\n",
    "thta_diff = 20\n",
    "if n_o_c == 1 :\n",
    "    roh_d = 0.15\n",
    "elif n_o_c == 2:\n",
    "    roh_d = 0.22\n",
    "elif n_o_c == 3: \n",
    "    roh_d = 0.24"
   ]
  },
  {
   "cell_type": "markdown",
   "id": "57a41db8",
   "metadata": {},
   "source": [
    "# Working on average days"
   ]
  },
  {
   "cell_type": "code",
   "execution_count": null,
   "id": "8c317b55",
   "metadata": {
    "scrolled": true
   },
   "outputs": [],
   "source": [
    "def iqs_4m(m,gamma):\n",
    "    gamma = gamma\n",
    "    n = avg_d[m-1]\n",
    "    I_total_m = []\n",
    "    S_m = []\n",
    "    Q_m = []\n",
    "    Ac_m =[]\n",
    "    NOT_m =[]\n",
    "    Eff_m =[]\n",
    "    for i in range(10):\n",
    "        beta = 10*i\n",
    "        theta_in = []\n",
    "        theta_z_in = []\n",
    "        rb_in = []\n",
    "        I_total_in = []\n",
    "        thetadash_in = []\n",
    "        roh1_in = []\n",
    "        roh2_in = []\n",
    "        tau1_in = []\n",
    "        tau2_in = []\n",
    "        tau_r = []\n",
    "        tau_a_in = []\n",
    "        tau = []\n",
    "        alpha_in = []\n",
    "        tau_a_b_in = []\n",
    "        S_in = []\n",
    "        qu = []\n",
    "\n",
    "        # DIFFUSE\n",
    "        rd_in = rd(beta)\n",
    "        rr_in = rr(beta, roh_g)\n",
    "        tau_a_d_in = tau_alp_d(thta_diff, ng, na, n_o_c, k, delC, roh_d)\n",
    "\n",
    "        # TANK\n",
    "        L = (W-Do)/2\n",
    "        F = fin_eff(U,K,cpst,L)\n",
    "        F_d = collector_eff(U,W,L,F,Do,cb,Di,hci)\n",
    "        FR = hear_removal_factor(mw,cw,U,F_d)\n",
    "        for i in range(len(st)):\n",
    "            theta_in.append(theta(beta,decl(n),gamma,ha(st[i]),phi))\n",
    "            theta_z_in.append(theta_z(decl(n),gamma,ha(st[i]),phi))\n",
    "            if rb(n,st[i],beta ,gamma, phi) < 0:\n",
    "                rb_in.append(0)\n",
    "            else:\n",
    "                rb_in.append(rb(n,st[i],beta ,gamma, phi))\n",
    "            I_total_in.append(I_total(I[m-1][0][i],I[m-1][1][i],rb_in[i],rd(beta),rr(beta,0.2)))\n",
    "            thetadash_in.append(thetadash(ng,na,theta_in[i]))\n",
    "            roh1_in.append(roh1(theta_in[i],thetadash_in[i]))\n",
    "            roh2_in.append(roh2(theta_in[i],thetadash_in[i]))\n",
    "            tau1_in.append(tau1(roh1_in[i],n_o_c))\n",
    "            tau2_in.append(tau1(roh2_in[i],n_o_c))\n",
    "            tau_r.append((tau1_in[i]+tau2_in[i])*0.5)\n",
    "            tau_a_in.append(tau_a(thetadash_in[i],k,delC))\n",
    "            tau.append(tau_a_in[i]*tau_r[i])  \n",
    "            alpha_in.append(alpha(theta_in[i]))\n",
    "            tau_a_b_in.append(tau_alp_b(tau[i],alpha_in[i],roh_d))\n",
    "            S_in.append(S(I[m-1][0][i],I[m-1][1][i],rb_in[i], rd_in, rr_in, tau_a_b_in[i], tau_a_d_in))\n",
    "        ta = Ta_r[m-1][1] - DR[0]*(Ta_r[m-1][1]-Ta_r[m-1][0])/100\n",
    "        tw_n = [Twi[m-1]]\n",
    "        if FR*(S_in[0]-U*(Twi[m-1]-ta)) < 0 :\n",
    "            qu.append(0)\n",
    "        else:\n",
    "            qu.append(FR*(S_in[0]-U*(Twi[m-1]-ta)))\n",
    "\n",
    "        for i in range(1,len(st)): \n",
    "            two = tw_n[i-1]+(qu[i-1]/(mw*cw))\n",
    "            tw_n.append((two+tw_n[i-1])/2)\n",
    "            ta = Ta_r[m-1][1] - DR[i]*(Ta_r[m-1][1]-Ta_r[m-1][0])/100\n",
    "            if FR*(S_in[i]-U*(tw_n[i]-ta)) > 0: \n",
    "                qu.append(FR*(S_in[i]-U*(tw_n[i]-ta)))\n",
    "            else:\n",
    "                qu.append(0)\n",
    "        I_total_daily = sum(I_total_in[1:len(I_total_in)])*(3600/pow(10,6))\n",
    "        S_daily = sum(S_in[1:len(S_in)])*(3600/pow(10,6))\n",
    "        Q_daily = sum(qu[1:len(qu)])*(3600/pow(10,6))\n",
    "        I_total_in.append(I_total_daily)\n",
    "        S_in.append(S_daily)\n",
    "        qu.append(Q_daily)\n",
    "        Ac = (vw*cw*(Twh-Twi[m-1]))/(Q_daily*pow(10,6))\n",
    "        Ac_m.append(Ac)\n",
    "        NOT_m.append(int((Ac/2)/W))\n",
    "        Eff_m.append(Q_daily/I_total_daily)\n",
    "        I_total_m.append(I_total_in)\n",
    "        S_m.append(S_in)\n",
    "        Q_m.append(qu)\n",
    "    return I_total_m,S_m,Q_m,Ac_m,NOT_m,Eff_m"
   ]
  },
  {
   "cell_type": "code",
   "execution_count": null,
   "id": "ab659770",
   "metadata": {
    "scrolled": true
   },
   "outputs": [],
   "source": [
    "full_data = []\n",
    "for x in range(12):\n",
    "    gamma_l = 0\n",
    "    I_total_m = iqs_4m(x+1,gamma_l)[0]\n",
    "    S_m = iqs_4m(x+1,gamma_l)[1]\n",
    "    Q_m = iqs_4m(x+1,gamma_l)[2]\n",
    "    Ac_m = iqs_4m(x+1,gamma_l)[3]\n",
    "    NOT_m = iqs_4m(x+1,gamma_l)[4]\n",
    "    Eff_m = iqs_4m(x+1,gamma_l)[5]\n",
    "    I_avg = pd.DataFrame(data= {\n",
    "    \"ST\":st_t,\n",
    "    \"Beta = 0\" : I_total_m[0],\n",
    "    \"Beta = 10\" : I_total_m[1],\n",
    "    \"Beta = 20\" : I_total_m[2],\n",
    "    \"Beta = 30\" : I_total_m[3],\n",
    "    \"Beta = 40\" : I_total_m[4],\n",
    "    \"Beta = 50\" : I_total_m[5],\n",
    "    \"Beta = 60\" : I_total_m[6],\n",
    "    \"Beta = 70\" : I_total_m[7],\n",
    "    \"Beta = 80\" : I_total_m[8],\n",
    "    \"Beta = 90\" : I_total_m[9]\n",
    "    })\n",
    "    S_avg = pd.DataFrame(data= {\n",
    "        \"ST\":st_t,\n",
    "        \"Beta = 0\" : S_m[0],\n",
    "        \"Beta = 10\" : S_m[1],\n",
    "        \"Beta = 20\" : S_m[2],\n",
    "        \"Beta = 30\" : S_m[3],\n",
    "        \"Beta = 40\" : S_m[4],\n",
    "        \"Beta = 50\" : S_m[5],\n",
    "        \"Beta = 60\" : S_m[6],\n",
    "        \"Beta = 70\" : S_m[7],\n",
    "        \"Beta = 80\" : S_m[8],\n",
    "        \"Beta = 90\" : S_m[9],\n",
    "    })\n",
    "    Q_avg = pd.DataFrame(data= {\n",
    "        \"ST\":st_t,\n",
    "        \"Beta = 0\" : Q_m[0],\n",
    "        \"Beta = 10\" : Q_m[1],\n",
    "        \"Beta = 20\" : Q_m[2],\n",
    "        \"Beta = 30\" : Q_m[3],\n",
    "        \"Beta = 40\" : Q_m[4],\n",
    "        \"Beta = 50\" : Q_m[5],\n",
    "        \"Beta = 60\" : Q_m[6],\n",
    "        \"Beta = 70\" : Q_m[7],\n",
    "        \"Beta = 80\" : Q_m[8],\n",
    "        \"Beta = 90\" : Q_m[9],\n",
    "    })\n",
    "    Dim = pd.DataFrame(data={\n",
    "        \"Tilt Angle\" : list(range(0,100,10)),\n",
    "        \"Area of collector\" : Ac_m,\n",
    "        \"Number of tubes\" : NOT_m,\n",
    "        \"Collector efficiency\" : Eff_m\n",
    "    })\n",
    "    full_data.append([I_avg,S_avg,Q_avg,Dim])"
   ]
  },
  {
   "cell_type": "markdown",
   "id": "357c1e2c",
   "metadata": {},
   "source": [
    "# All months"
   ]
  },
  {
   "cell_type": "markdown",
   "id": "71c9c5a1",
   "metadata": {},
   "source": [
    "# Januaury"
   ]
  },
  {
   "cell_type": "markdown",
   "id": "1e9a0a71",
   "metadata": {},
   "source": [
    "## Total solar radiation"
   ]
  },
  {
   "cell_type": "code",
   "execution_count": null,
   "id": "57a608e3",
   "metadata": {
    "scrolled": true
   },
   "outputs": [],
   "source": [
    "full_data[0][0]"
   ]
  },
  {
   "cell_type": "markdown",
   "id": "eb58ea9c",
   "metadata": {},
   "source": [
    "## Total absorbed solar radiation\n"
   ]
  },
  {
   "cell_type": "code",
   "execution_count": null,
   "id": "0517071e",
   "metadata": {
    "scrolled": true
   },
   "outputs": [],
   "source": [
    "full_data[0][1]"
   ]
  },
  {
   "cell_type": "markdown",
   "id": "3c95a51f",
   "metadata": {},
   "source": [
    "## Usefull energy rate\n"
   ]
  },
  {
   "cell_type": "code",
   "execution_count": null,
   "id": "fb909fd9",
   "metadata": {
    "scrolled": true
   },
   "outputs": [],
   "source": [
    "full_data[0][2]"
   ]
  },
  {
   "cell_type": "markdown",
   "id": "5569e012",
   "metadata": {},
   "source": [
    "## Size & efficiency\n"
   ]
  },
  {
   "cell_type": "code",
   "execution_count": null,
   "id": "63bd030d",
   "metadata": {
    "scrolled": true
   },
   "outputs": [],
   "source": [
    "full_data[0][3]"
   ]
  },
  {
   "cell_type": "markdown",
   "id": "132b44dc",
   "metadata": {},
   "source": [
    "# February\n",
    "\n"
   ]
  },
  {
   "cell_type": "markdown",
   "id": "8c1a637e",
   "metadata": {},
   "source": [
    "\n",
    "\n",
    "\n",
    "## Total solar radiation"
   ]
  },
  {
   "cell_type": "code",
   "execution_count": null,
   "id": "d4e7fc70",
   "metadata": {
    "scrolled": true
   },
   "outputs": [],
   "source": [
    "full_data[1][0]"
   ]
  },
  {
   "cell_type": "markdown",
   "id": "e085b0da",
   "metadata": {},
   "source": [
    "## Total absorbed solar radiation\n"
   ]
  },
  {
   "cell_type": "code",
   "execution_count": null,
   "id": "09d4a3a6",
   "metadata": {
    "scrolled": true
   },
   "outputs": [],
   "source": [
    "full_data[1][1]"
   ]
  },
  {
   "cell_type": "markdown",
   "id": "d1bed34f",
   "metadata": {},
   "source": [
    "## Usefull energy rate\n"
   ]
  },
  {
   "cell_type": "code",
   "execution_count": null,
   "id": "cc3fad2c",
   "metadata": {
    "scrolled": true
   },
   "outputs": [],
   "source": [
    "full_data[1][2]"
   ]
  },
  {
   "cell_type": "markdown",
   "id": "b09050ff",
   "metadata": {},
   "source": [
    "## Size & efficiency\n"
   ]
  },
  {
   "cell_type": "code",
   "execution_count": null,
   "id": "01662afc",
   "metadata": {
    "scrolled": true
   },
   "outputs": [],
   "source": [
    "full_data[1][3]"
   ]
  },
  {
   "cell_type": "markdown",
   "id": "65da994c",
   "metadata": {},
   "source": [
    "# March"
   ]
  },
  {
   "cell_type": "markdown",
   "id": "526826e6",
   "metadata": {},
   "source": [
    "## Total solar radiation"
   ]
  },
  {
   "cell_type": "code",
   "execution_count": null,
   "id": "1d200556",
   "metadata": {
    "scrolled": true
   },
   "outputs": [],
   "source": [
    "full_data[2][0]"
   ]
  },
  {
   "cell_type": "markdown",
   "id": "1c607309",
   "metadata": {},
   "source": [
    "## Total absorbed solar radiation\n"
   ]
  },
  {
   "cell_type": "code",
   "execution_count": null,
   "id": "27f08225",
   "metadata": {
    "scrolled": true
   },
   "outputs": [],
   "source": [
    "full_data[2][1]"
   ]
  },
  {
   "cell_type": "markdown",
   "id": "cde32cf0",
   "metadata": {},
   "source": [
    "## Usefull energy rate\n"
   ]
  },
  {
   "cell_type": "code",
   "execution_count": null,
   "id": "fc889106",
   "metadata": {
    "scrolled": true
   },
   "outputs": [],
   "source": [
    "full_data[2][2]"
   ]
  },
  {
   "cell_type": "markdown",
   "id": "b2b7d408",
   "metadata": {},
   "source": [
    "## Size & efficiency\n"
   ]
  },
  {
   "cell_type": "code",
   "execution_count": null,
   "id": "94f797a4",
   "metadata": {
    "scrolled": true
   },
   "outputs": [],
   "source": [
    "full_data[2][3]"
   ]
  },
  {
   "cell_type": "markdown",
   "id": "66d2c54d",
   "metadata": {},
   "source": [
    "# April"
   ]
  },
  {
   "cell_type": "markdown",
   "id": "0980f465",
   "metadata": {},
   "source": [
    "## Total solar radiation"
   ]
  },
  {
   "cell_type": "code",
   "execution_count": null,
   "id": "ea807a0b",
   "metadata": {
    "scrolled": true
   },
   "outputs": [],
   "source": [
    "full_data[3][0]"
   ]
  },
  {
   "cell_type": "markdown",
   "id": "6545aa24",
   "metadata": {},
   "source": [
    "## Total absorbed solar radiation\n"
   ]
  },
  {
   "cell_type": "code",
   "execution_count": null,
   "id": "8de50b7a",
   "metadata": {
    "scrolled": true
   },
   "outputs": [],
   "source": [
    "full_data[3][1]"
   ]
  },
  {
   "cell_type": "markdown",
   "id": "db1d7954",
   "metadata": {},
   "source": [
    "## Usefull energy rate\n"
   ]
  },
  {
   "cell_type": "code",
   "execution_count": null,
   "id": "abb2c89a",
   "metadata": {
    "scrolled": true
   },
   "outputs": [],
   "source": [
    "full_data[3][2]"
   ]
  },
  {
   "cell_type": "markdown",
   "id": "2e29dd77",
   "metadata": {},
   "source": [
    "## Size & efficiency\n"
   ]
  },
  {
   "cell_type": "code",
   "execution_count": null,
   "id": "dd7c8dcc",
   "metadata": {
    "scrolled": true
   },
   "outputs": [],
   "source": [
    "full_data[3][3]"
   ]
  },
  {
   "cell_type": "markdown",
   "id": "693e1919",
   "metadata": {},
   "source": [
    "# May"
   ]
  },
  {
   "cell_type": "markdown",
   "id": "83566463",
   "metadata": {},
   "source": [
    "## Total solar radiation"
   ]
  },
  {
   "cell_type": "code",
   "execution_count": null,
   "id": "3a89ed16",
   "metadata": {
    "scrolled": true
   },
   "outputs": [],
   "source": [
    "full_data[4][0]"
   ]
  },
  {
   "cell_type": "markdown",
   "id": "1fa90049",
   "metadata": {},
   "source": [
    "## Total absorbed solar radiation\n"
   ]
  },
  {
   "cell_type": "code",
   "execution_count": null,
   "id": "eb64433b",
   "metadata": {
    "scrolled": true
   },
   "outputs": [],
   "source": [
    "full_data[4][1]"
   ]
  },
  {
   "cell_type": "markdown",
   "id": "3860b24a",
   "metadata": {},
   "source": [
    "## Usefull energy rate\n"
   ]
  },
  {
   "cell_type": "code",
   "execution_count": null,
   "id": "9dc4cecd",
   "metadata": {
    "scrolled": true
   },
   "outputs": [],
   "source": [
    "full_data[4][2]"
   ]
  },
  {
   "cell_type": "markdown",
   "id": "e26b3495",
   "metadata": {},
   "source": [
    "## Size & efficiency\n"
   ]
  },
  {
   "cell_type": "code",
   "execution_count": null,
   "id": "066e4c1a",
   "metadata": {
    "scrolled": true
   },
   "outputs": [],
   "source": [
    "full_data[4][3]"
   ]
  },
  {
   "cell_type": "markdown",
   "id": "9188b2d2",
   "metadata": {},
   "source": [
    "# June"
   ]
  },
  {
   "cell_type": "markdown",
   "id": "7f45761c",
   "metadata": {},
   "source": [
    "## Total solar radiation"
   ]
  },
  {
   "cell_type": "code",
   "execution_count": null,
   "id": "354b380f",
   "metadata": {
    "scrolled": true
   },
   "outputs": [],
   "source": [
    "full_data[5][0]"
   ]
  },
  {
   "cell_type": "markdown",
   "id": "bba222d0",
   "metadata": {},
   "source": [
    "## Total absorbed solar radiation\n"
   ]
  },
  {
   "cell_type": "code",
   "execution_count": null,
   "id": "cbd303dd",
   "metadata": {
    "scrolled": true
   },
   "outputs": [],
   "source": [
    "full_data[5][1]"
   ]
  },
  {
   "cell_type": "markdown",
   "id": "bb5c11db",
   "metadata": {},
   "source": [
    "## Usefull energy rate\n"
   ]
  },
  {
   "cell_type": "code",
   "execution_count": null,
   "id": "a5898496",
   "metadata": {
    "scrolled": true
   },
   "outputs": [],
   "source": [
    "full_data[5][2]"
   ]
  },
  {
   "cell_type": "markdown",
   "id": "912c85c5",
   "metadata": {},
   "source": [
    "## Size & efficiency\n"
   ]
  },
  {
   "cell_type": "code",
   "execution_count": null,
   "id": "707b695a",
   "metadata": {
    "scrolled": true
   },
   "outputs": [],
   "source": [
    "full_data[5][3]"
   ]
  },
  {
   "cell_type": "markdown",
   "id": "197b7fc1",
   "metadata": {},
   "source": [
    "# July"
   ]
  },
  {
   "cell_type": "markdown",
   "id": "760b1a8e",
   "metadata": {},
   "source": [
    "## Total solar radiation"
   ]
  },
  {
   "cell_type": "code",
   "execution_count": null,
   "id": "f90bfd16",
   "metadata": {
    "scrolled": true
   },
   "outputs": [],
   "source": [
    "full_data[6][0]"
   ]
  },
  {
   "cell_type": "markdown",
   "id": "e35c0db9",
   "metadata": {},
   "source": [
    "## Total absorbed solar radiation\n"
   ]
  },
  {
   "cell_type": "code",
   "execution_count": null,
   "id": "53b626ae",
   "metadata": {
    "scrolled": true
   },
   "outputs": [],
   "source": [
    "full_data[6][1]"
   ]
  },
  {
   "cell_type": "markdown",
   "id": "ae357d4b",
   "metadata": {},
   "source": [
    "## Usefull energy rate\n"
   ]
  },
  {
   "cell_type": "code",
   "execution_count": null,
   "id": "ab3eda75",
   "metadata": {
    "scrolled": true
   },
   "outputs": [],
   "source": [
    "full_data[6][2]"
   ]
  },
  {
   "cell_type": "markdown",
   "id": "3f46dea7",
   "metadata": {},
   "source": [
    "## Size & efficiency\n"
   ]
  },
  {
   "cell_type": "code",
   "execution_count": null,
   "id": "0768bcb1",
   "metadata": {
    "scrolled": true
   },
   "outputs": [],
   "source": [
    "full_data[6][3]"
   ]
  },
  {
   "cell_type": "markdown",
   "id": "e4e4ec67",
   "metadata": {},
   "source": [
    "# August"
   ]
  },
  {
   "cell_type": "markdown",
   "id": "b5a93491",
   "metadata": {},
   "source": [
    "## Total solar radiation"
   ]
  },
  {
   "cell_type": "code",
   "execution_count": null,
   "id": "01cf9afa",
   "metadata": {
    "scrolled": true
   },
   "outputs": [],
   "source": [
    "full_data[7][0]"
   ]
  },
  {
   "cell_type": "markdown",
   "id": "a20da74b",
   "metadata": {},
   "source": [
    "## Total absorbed solar radiation\n"
   ]
  },
  {
   "cell_type": "code",
   "execution_count": null,
   "id": "48f01dd3",
   "metadata": {
    "scrolled": true
   },
   "outputs": [],
   "source": [
    "full_data[7][1]"
   ]
  },
  {
   "cell_type": "markdown",
   "id": "a1ff1970",
   "metadata": {},
   "source": [
    "## Usefull energy rate\n"
   ]
  },
  {
   "cell_type": "code",
   "execution_count": null,
   "id": "5161817b",
   "metadata": {
    "scrolled": true
   },
   "outputs": [],
   "source": [
    "full_data[7][2]"
   ]
  },
  {
   "cell_type": "markdown",
   "id": "0fa3f937",
   "metadata": {},
   "source": [
    "## Size & efficiency\n"
   ]
  },
  {
   "cell_type": "code",
   "execution_count": null,
   "id": "c94632a5",
   "metadata": {
    "scrolled": true
   },
   "outputs": [],
   "source": [
    "full_data[7][3]"
   ]
  },
  {
   "cell_type": "markdown",
   "id": "5aecda2f",
   "metadata": {},
   "source": [
    "# September"
   ]
  },
  {
   "cell_type": "markdown",
   "id": "bcf2d9d7",
   "metadata": {},
   "source": [
    "## Total solar radiation"
   ]
  },
  {
   "cell_type": "code",
   "execution_count": null,
   "id": "f8418058",
   "metadata": {
    "scrolled": true
   },
   "outputs": [],
   "source": [
    "full_data[8][0]"
   ]
  },
  {
   "cell_type": "markdown",
   "id": "8537bc73",
   "metadata": {},
   "source": [
    "## Total absorbed solar radiation\n"
   ]
  },
  {
   "cell_type": "code",
   "execution_count": null,
   "id": "0cc64254",
   "metadata": {
    "scrolled": true
   },
   "outputs": [],
   "source": [
    "full_data[8][1]"
   ]
  },
  {
   "cell_type": "markdown",
   "id": "c104d616",
   "metadata": {},
   "source": [
    "## Usefull energy rate\n"
   ]
  },
  {
   "cell_type": "code",
   "execution_count": null,
   "id": "64361239",
   "metadata": {
    "scrolled": true
   },
   "outputs": [],
   "source": [
    "full_data[8][2]"
   ]
  },
  {
   "cell_type": "markdown",
   "id": "4e8fa23d",
   "metadata": {},
   "source": [
    "## Size & efficiency\n"
   ]
  },
  {
   "cell_type": "code",
   "execution_count": null,
   "id": "403cb515",
   "metadata": {
    "scrolled": true
   },
   "outputs": [],
   "source": [
    "full_data[8][3]"
   ]
  },
  {
   "cell_type": "markdown",
   "id": "ac03c52b",
   "metadata": {},
   "source": [
    "# October"
   ]
  },
  {
   "cell_type": "markdown",
   "id": "ecd62bf3",
   "metadata": {},
   "source": [
    "## Total solar radiation"
   ]
  },
  {
   "cell_type": "code",
   "execution_count": null,
   "id": "92cec088",
   "metadata": {
    "scrolled": true
   },
   "outputs": [],
   "source": [
    "full_data[9][0]"
   ]
  },
  {
   "cell_type": "markdown",
   "id": "699e47f0",
   "metadata": {},
   "source": [
    "## Total absorbed solar radiation\n"
   ]
  },
  {
   "cell_type": "code",
   "execution_count": null,
   "id": "7ea85dd0",
   "metadata": {
    "scrolled": true
   },
   "outputs": [],
   "source": [
    "full_data[9][1]"
   ]
  },
  {
   "cell_type": "markdown",
   "id": "d47da86e",
   "metadata": {},
   "source": [
    "## Usefull energy rate\n"
   ]
  },
  {
   "cell_type": "code",
   "execution_count": null,
   "id": "f8f684d2",
   "metadata": {
    "scrolled": true
   },
   "outputs": [],
   "source": [
    "full_data[9][2]"
   ]
  },
  {
   "cell_type": "markdown",
   "id": "53de23a2",
   "metadata": {},
   "source": [
    "## Size & efficiency\n"
   ]
  },
  {
   "cell_type": "code",
   "execution_count": null,
   "id": "eca443fc",
   "metadata": {
    "scrolled": true
   },
   "outputs": [],
   "source": [
    "full_data[9][3]"
   ]
  },
  {
   "cell_type": "markdown",
   "id": "1789e6c7",
   "metadata": {},
   "source": [
    "# November"
   ]
  },
  {
   "cell_type": "markdown",
   "id": "5624e5bb",
   "metadata": {},
   "source": [
    "## Total solar radiation"
   ]
  },
  {
   "cell_type": "code",
   "execution_count": null,
   "id": "bc2a579d",
   "metadata": {
    "scrolled": true
   },
   "outputs": [],
   "source": [
    "full_data[10][0]"
   ]
  },
  {
   "cell_type": "markdown",
   "id": "d0174366",
   "metadata": {},
   "source": [
    "## Total absorbed solar radiation\n"
   ]
  },
  {
   "cell_type": "code",
   "execution_count": null,
   "id": "b4964305",
   "metadata": {
    "scrolled": true
   },
   "outputs": [],
   "source": [
    "full_data[10][1]"
   ]
  },
  {
   "cell_type": "markdown",
   "id": "90c2a44a",
   "metadata": {},
   "source": [
    "## Usefull energy rate\n"
   ]
  },
  {
   "cell_type": "code",
   "execution_count": null,
   "id": "c1b69c67",
   "metadata": {
    "scrolled": true
   },
   "outputs": [],
   "source": [
    "full_data[10][2]"
   ]
  },
  {
   "cell_type": "markdown",
   "id": "387db2df",
   "metadata": {},
   "source": [
    "## Size & efficiency\n"
   ]
  },
  {
   "cell_type": "code",
   "execution_count": null,
   "id": "1ef3ae0d",
   "metadata": {
    "scrolled": true
   },
   "outputs": [],
   "source": [
    "full_data[10][3]"
   ]
  },
  {
   "cell_type": "markdown",
   "id": "97379b29",
   "metadata": {},
   "source": [
    "# December"
   ]
  },
  {
   "cell_type": "markdown",
   "id": "d99d00b6",
   "metadata": {},
   "source": [
    "## Total solar radiation"
   ]
  },
  {
   "cell_type": "code",
   "execution_count": null,
   "id": "5892ef2b",
   "metadata": {
    "scrolled": true
   },
   "outputs": [],
   "source": [
    "full_data[11][0]"
   ]
  },
  {
   "cell_type": "markdown",
   "id": "a1dcd7bd",
   "metadata": {},
   "source": [
    "## Total absorbed solar radiation\n"
   ]
  },
  {
   "cell_type": "code",
   "execution_count": null,
   "id": "6c46508f",
   "metadata": {
    "scrolled": true
   },
   "outputs": [],
   "source": [
    "full_data[11][1]"
   ]
  },
  {
   "cell_type": "markdown",
   "id": "8787366d",
   "metadata": {},
   "source": [
    "## Usefull energy rate\n"
   ]
  },
  {
   "cell_type": "code",
   "execution_count": null,
   "id": "536f77ce",
   "metadata": {
    "scrolled": true
   },
   "outputs": [],
   "source": [
    "full_data[11][2]"
   ]
  },
  {
   "cell_type": "markdown",
   "id": "0a3e168d",
   "metadata": {},
   "source": [
    "## Size & efficiency\n"
   ]
  },
  {
   "cell_type": "code",
   "execution_count": null,
   "id": "eb694eed",
   "metadata": {
    "scrolled": true
   },
   "outputs": [],
   "source": [
    "full_data[11][3]"
   ]
  },
  {
   "cell_type": "markdown",
   "id": "f80c2495",
   "metadata": {},
   "source": [
    "# Instantaneous analysis"
   ]
  },
  {
   "cell_type": "code",
   "execution_count": null,
   "id": "7ae48e73",
   "metadata": {
    "scrolled": true
   },
   "outputs": [],
   "source": [
    "Q_y = []\n",
    "for i in range(12):\n",
    "    m = i+1    \n",
    "    n = avg_d[m-1]\n",
    "    Q_m = []\n",
    "    for i in range(10):\n",
    "        beta = 10*i\n",
    "        theta_in = []\n",
    "        theta_z_in = []\n",
    "        rb_in = []\n",
    "        I_total_in = []\n",
    "        thetadash_in = []\n",
    "        roh1_in = []\n",
    "        roh2_in = []\n",
    "        tau1_in = []\n",
    "        tau2_in = []\n",
    "        tau_r = []\n",
    "        tau_a_in = []\n",
    "        tau = []\n",
    "        alpha_in = []\n",
    "        tau_a_b_in = []\n",
    "        S_in = []\n",
    "        qu = []\n",
    "\n",
    "        # DIFFUSE\n",
    "        rd_in = rd(beta)\n",
    "        rr_in = rr(beta, roh_g)\n",
    "        tau_a_d_in = tau_alp_d(thta_diff, ng, na, n_o_c, k, delC, roh_d)\n",
    "\n",
    "        # TANK\n",
    "        L = (W-Do)/2\n",
    "        F = fin_eff(U,K,cpst,L)\n",
    "        F_d = collector_eff(U,W,L,F,Do,cb,Di,hci)\n",
    "        FR = hear_removal_factor(mw,cw,U,F_d)\n",
    "        for i in range(len(st)):\n",
    "            theta_in.append(theta(beta,decl(n),gamma,ha(st[i]),phi))\n",
    "            theta_z_in.append(theta_z(decl(n),gamma,ha(st[i]),phi))\n",
    "            if rb(n,st[i],beta ,gamma, phi) < 0:\n",
    "                rb_in.append(0)\n",
    "            else:\n",
    "                rb_in.append(rb(n,st[i],beta ,gamma, phi))\n",
    "            I_total_in.append(I_total(I[m-1][0][i],I[m-1][1][i],rb_in[i],rd(beta),rr(beta,0.2)))\n",
    "            thetadash_in.append(thetadash(ng,na,theta_in[i]))\n",
    "            roh1_in.append(roh1(theta_in[i],thetadash_in[i]))\n",
    "            roh2_in.append(roh2(theta_in[i],thetadash_in[i]))\n",
    "            tau1_in.append(tau1(roh1_in[i],n_o_c))\n",
    "            tau2_in.append(tau1(roh2_in[i],n_o_c))\n",
    "            tau_r.append((tau1_in[i]+tau2_in[i])*0.5)\n",
    "            tau_a_in.append(tau_a(thetadash_in[i],k,delC))\n",
    "            tau.append(tau_a_in[i]*tau_r[i])  \n",
    "            alpha_in.append(alpha(theta_in[i]))\n",
    "            tau_a_b_in.append(tau_alp_b(tau[i],alpha_in[i],roh_d))\n",
    "            S_in.append(S(I[m-1][0][i],I[m-1][1][i],rb_in[i], rd_in, rr_in, tau_a_b_in[i], tau_a_d_in))\n",
    "        ta = Ta_r[m-1][1] - DR[0]*(Ta_r[m-1][1]-Ta_r[m-1][0])/100\n",
    "        tw_n = [Twi[m-1]]\n",
    "        if FR*(S_in[0]-U*(Twi[m-1]-ta)) < 0 :\n",
    "            qu.append(0)\n",
    "        else:\n",
    "            qu.append(FR*(S_in[0]-U*(Twi[m-1]-ta)))\n",
    "\n",
    "        for i in range(1,len(st)): \n",
    "            two = tw_n[i-1]+(qu[i-1]/(mw*cw))\n",
    "            tw_n.append((two+tw_n[i-1])/2)\n",
    "            ta = Ta_r[m-1][1] - DR[i]*(Ta_r[m-1][1]-Ta_r[m-1][0])/100\n",
    "            if FR*(S_in[i]-U*(tw_n[i]-ta)) > 0: \n",
    "                qu.append(FR*(S_in[i]-U*(tw_n[i]-ta)))\n",
    "            else:\n",
    "                qu.append(0)\n",
    "        Q_m.append(qu)\n",
    "    Q_y.append(Q_m)"
   ]
  },
  {
   "cell_type": "markdown",
   "id": "2548da38",
   "metadata": {},
   "source": [
    "### Plots"
   ]
  },
  {
   "cell_type": "code",
   "execution_count": null,
   "id": "3185db0a",
   "metadata": {
    "scrolled": true
   },
   "outputs": [],
   "source": [
    "pd.DataFrame(data={\n",
    "    \"0\" : Q_y[3][0],\n",
    "    \"10\" : Q_y[3][1],\n",
    "    \"20\" : Q_y[3][2],\n",
    "    \"30\" : Q_y[3][3],\n",
    "    \"40\" : Q_y[3][4],\n",
    "    \"50\" : Q_y[3][5],\n",
    "    \"60\" : Q_y[3][6],\n",
    "    \"70\" : Q_y[3][7],\n",
    "    \"80\" : Q_y[3][8],\n",
    "    \"90\" : Q_y[3][9]\n",
    "\n",
    "}).to_csv('out2.csv', index=False)\n"
   ]
  },
  {
   "cell_type": "code",
   "execution_count": null,
   "id": "16aab725",
   "metadata": {},
   "outputs": [],
   "source": [
    "for x in range(12):\n",
    "    mon = x+1\n",
    "    for i in range(10):\n",
    "        if srs[mon-1]<6 or sss[mon-1]>18:\n",
    "            if srs[mon-1]<6:\n",
    "                start = list([srs[mon-1]]+list(interpolate(st,Q_y[mon-1][i])[0]))\n",
    "                end = list([0]+list(interpolate(st,Q_y[mon-1][i])[1]))\n",
    "                plt.plot(start,end)\n",
    "            if sss[mon-1]>18:\n",
    "                plt.plot(list(interpolate(st,Q_y[mon-1][i])[0])+[sss[mon-1]],list(interpolate(st,Q_y[mon-1][i])[1])+[0])\n",
    "        else:\n",
    "            plt.plot(interpolate(st,Q_y[mon-1][i])[0],interpolate(st,Q_y[mon-1][i])[1])\n",
    "    plt.legend([\"beta=0\",\n",
    "                \"beta=10\",\n",
    "                \"beta=20\",\n",
    "                \"beta=30\",\n",
    "                \"beta=40\",\n",
    "                \"beta=50\",\n",
    "                \"beta=60\",\n",
    "                \"beta=70\",\n",
    "                \"beta=80\",\n",
    "                \"beta=90\"])\n",
    "    plt.title(f\"Instantaneous analysis for {months[mon-1]} at gamma = {gamma}\")\n",
    "    plt.xlabel(\"Solar time\")\n",
    "    srs_m = srs[mon-1]\n",
    "    sss_m = sss[mon-1]\n",
    "    plt.xlim([srs_m,sss_m])\n",
    "    plt.ylim([0,700])\n",
    "\n",
    "    plt.xticks([srs_m]+list(np.arange(math.ceil(srs[mon-1])+1 , 18,2))+[sss_m])\n",
    "    plt.ylabel(\"qu (w/m^2)\")\n",
    "    \n",
    "    plt.show()\n",
    "    plt.clf()"
   ]
  },
  {
   "cell_type": "code",
   "execution_count": null,
   "id": "86f3bb7c",
   "metadata": {},
   "outputs": [],
   "source": [
    "mon = int(input(\"What month you want to plot?\\n\"))\n",
    "for i in range(10):\n",
    "    plt.plot(interpolate(st,Q_y[mon-1][i],mon)[0],interpolate(st,Q_y[mon-1][i],mon)[1])\n",
    "plt.legend([\"beta=0\",\n",
    "            \"beta=10\",\n",
    "            \"beta=20\",\n",
    "            \"beta=30\",\n",
    "            \"beta=40\",\n",
    "            \"beta=50\",\n",
    "            \"beta=60\",\n",
    "            \"beta=70\",\n",
    "            \"beta=80\",\n",
    "            \"beta=90\"])\n",
    "plt.title(f\"Instantaneous analysis for {months[mon-1]} at gamma = {gamma}\")\n",
    "plt.xlabel(\"Solar time\")\n",
    "if srs[mon-1]<6 or sss[mon-1]>18:\n",
    "    if srs[mon-1]<6:\n",
    "        srs_m=6\n",
    "    if sss[mon-1]>18:\n",
    "        sss_m=18\n",
    "else:\n",
    "    srs_m = srs[mon-1]\n",
    "    sss_m = sss[mon-1]\n",
    "plt.xlim([srs_m,sss_m])\n",
    "plt.ylim([0,700])\n",
    "\n",
    "plt.xticks([srs_m]+list(np.arange(math.ceil(srs[mon-1])+1 , 18,2))+[sss_m])\n",
    "plt.ylabel(\"qu (w/m^2)\")\n",
    "plt.show()"
   ]
  },
  {
   "cell_type": "markdown",
   "id": "5c2bfd72",
   "metadata": {},
   "source": [
    "# Daily analysis"
   ]
  },
  {
   "cell_type": "code",
   "execution_count": null,
   "id": "87b29b4b",
   "metadata": {
    "scrolled": true
   },
   "outputs": [],
   "source": [
    "Q_yd = []\n",
    "for mo in range(12):\n",
    "    m = mo+1\n",
    "    n = avg_d[m-1]\n",
    "    Q_m = []\n",
    "    for ga in range(10):\n",
    "        gamma = ga*10\n",
    "        I_total_g = []\n",
    "        S_g = []\n",
    "        Q_g = []\n",
    "        for be in range(10):\n",
    "            beta = 10*be\n",
    "            theta_in = []\n",
    "            theta_z_in = []\n",
    "            rb_in = []\n",
    "            I_total_in = []\n",
    "            thetadash_in = []\n",
    "            roh1_in = []\n",
    "            roh2_in = []\n",
    "            tau1_in = []\n",
    "            tau2_in = []\n",
    "            tau_r = []\n",
    "            tau_a_in = []\n",
    "            tau = []\n",
    "            alpha_in = []\n",
    "            tau_a_b_in = []\n",
    "            S_in = []\n",
    "            qu = []\n",
    "\n",
    "            # DIFFUSE\n",
    "            rd_in = rd(beta)\n",
    "            rr_in = rr(beta, roh_g)\n",
    "            tau_a_d_in = tau_alp_d(thta_diff, ng, na, n_o_c, k, delC, roh_d)\n",
    "\n",
    "            # TANK\n",
    "            L = (W-Do)/2\n",
    "            F = fin_eff(U,K,cpst,L)\n",
    "            F_d = collector_eff(U,W,L,F,Do,cb,Di,hci)\n",
    "            FR = hear_removal_factor(mw,cw,U,F_d)\n",
    "            for i in range(len(st)):\n",
    "                theta_in.append(theta(beta,decl(n),gamma,ha(st[i]),phi))\n",
    "                theta_z_in.append(theta_z(decl(n),gamma,ha(st[i]),phi))\n",
    "                if rb(n,st[i],beta ,gamma, phi) < 0:\n",
    "                    rb_in.append(0)\n",
    "                else:\n",
    "                    rb_in.append(rb(n,st[i],beta ,gamma, phi))\n",
    "                I_total_in.append(I_total(I[m-1][0][i],I[m-1][1][i],rb_in[i],rd(beta),rr(beta,0.2)))\n",
    "                thetadash_in.append(thetadash(ng,na,theta_in[i]))\n",
    "                roh1_in.append(roh1(theta_in[i],thetadash_in[i]))\n",
    "                roh2_in.append(roh2(theta_in[i],thetadash_in[i]))\n",
    "                tau1_in.append(tau1(roh1_in[i],n_o_c))\n",
    "                tau2_in.append(tau1(roh2_in[i],n_o_c))\n",
    "                tau_r.append((tau1_in[i]+tau2_in[i])*0.5)\n",
    "                tau_a_in.append(tau_a(thetadash_in[i],k,delC))\n",
    "                tau.append(tau_a_in[i]*tau_r[i])  \n",
    "                alpha_in.append(alpha(theta_in[i]))\n",
    "                tau_a_b_in.append(tau_alp_b(tau[i],alpha_in[i],roh_d))\n",
    "                S_in.append(S(I[m-1][0][i],I[m-1][1][i],rb_in[i], rd_in, rr_in, tau_a_b_in[i], tau_a_d_in))\n",
    "            ta = Ta_r[m-1][1] - DR[0]*(Ta_r[m-1][1]-Ta_r[m-1][0])/100\n",
    "            tw_n = [Twi[m-1]]\n",
    "            if FR*(S_in[0]-U*(Twi[m-1]-ta)) < 0 :\n",
    "                qu.append(0)\n",
    "            else:\n",
    "                qu.append(FR*(S_in[0]-U*(Twi[m-1]-ta)))\n",
    "\n",
    "            for i in range(1,len(st)): \n",
    "                two = tw_n[i-1]+(qu[i-1]/(mw*cw))\n",
    "                tw_n.append((two+tw_n[i-1])/2)\n",
    "                ta = Ta_r[m-1][1] - DR[i]*(Ta_r[m-1][1]-Ta_r[m-1][0])/100\n",
    "                if FR*(S_in[i]-U*(tw_n[i]-ta)) > 0: \n",
    "                    qu.append(FR*(S_in[i]-U*(tw_n[i]-ta)))\n",
    "                else:\n",
    "                    qu.append(0)\n",
    "            Q_daily = sum(qu[1:len(qu)])*(3600/pow(10,6))\n",
    "            Q_g.append(Q_daily)   \n",
    "        Q_m.append(Q_g)      \n",
    "    Q_yd.append(Q_m)    "
   ]
  },
  {
   "cell_type": "markdown",
   "id": "a83e539d",
   "metadata": {},
   "source": [
    "### Plots"
   ]
  },
  {
   "cell_type": "code",
   "execution_count": null,
   "id": "255fcb3c",
   "metadata": {},
   "outputs": [],
   "source": [
    "for x in range(12):\n",
    "    mon = x+1\n",
    "    for i in range(10):  \n",
    "        plt.plot(\n",
    "            interpolate(list(range(0,100,10)),Q_yd[mon-1][i])[0],interpolate(list(range(0,100,10)),Q_yd[mon-1][i])[1]\n",
    "        )\n",
    "    plt.xticks(range(0,100,10))\n",
    "    plt.legend([\"gamma=0\",\n",
    "                \"gamma=10\",\n",
    "                \"gamma=20\",\n",
    "                \"gamma=30\",\n",
    "                \"gamma=40\",\n",
    "                \"gamma=50\",\n",
    "                \"gamma=60\",\n",
    "                \"gamma=70\",\n",
    "                \"gamma=80\",\n",
    "                \"gamma=90\"] , ncol=2)\n",
    "    plt.title(f\"Daily analysis for {months[mon-1]}\")\n",
    "    plt.xlabel(\"Tilt angle\")\n",
    "    plt.ylabel(\"qu (MJ/Day.m^2)\")\n",
    "    plt.show()\n",
    "    plt.clf()"
   ]
  },
  {
   "cell_type": "markdown",
   "id": "7b9e0bb3",
   "metadata": {},
   "source": [
    "### Find the optimum Beta and Gamma for maximum Q daily"
   ]
  },
  {
   "cell_type": "code",
   "execution_count": null,
   "id": "ca36eae0",
   "metadata": {
    "scrolled": true
   },
   "outputs": [],
   "source": [
    "opt_betas = []\n",
    "opt_gammas = []\n",
    "max_q = []\n",
    "for i in range(12):\n",
    "    mx = list(map(max,Q_yd[i]))\n",
    "    gmx = max(mx)\n",
    "    gam_ind = mx.index(gmx)\n",
    "    gam_opt = gam_ind*10\n",
    "    be_opt = Q_yd[i][gam_ind].index(gmx)*10\n",
    "    opt_betas.append(be_opt)\n",
    "    opt_gammas.append(gam_opt)    \n",
    "    max_q.append(gmx)"
   ]
  },
  {
   "cell_type": "code",
   "execution_count": null,
   "id": "e740406c",
   "metadata": {
    "scrolled": false
   },
   "outputs": [],
   "source": [
    "Optimum_data = pd.DataFrame(data= {\n",
    "    \"Month\":months,\n",
    "    \"Optimum Tilt angle\": opt_betas,\n",
    "    \"Optimum Gamma\": opt_gammas,\n",
    "    \"Maximum rate of useful energy gain per day\" : max_q \n",
    "})\n",
    "Optimum_data.style.set_table_attributes(\"style = 'font-size:11px; font-weight:700; text-align:center'\").set_caption(\"Optimum Beta and Gamma for maximum Q daily\")"
   ]
  },
  {
   "cell_type": "markdown",
   "id": "afdc1853",
   "metadata": {},
   "source": [
    "# Yearly analysis"
   ]
  },
  {
   "cell_type": "code",
   "execution_count": null,
   "id": "e696af50",
   "metadata": {
    "scrolled": true
   },
   "outputs": [],
   "source": [
    "Q_y = []\n",
    "d_i_m = [31, 28, 31, 30, 31, 30, 31, 31, 30, 31, 30, 31] \n",
    "for i in range(10):\n",
    "    Q_yb = []\n",
    "    for b in range(10):\n",
    "        sum = 0\n",
    "        for m in range(12):\n",
    "            sum += Q_yd[m][i][b]*d_i_m[m]\n",
    "        Q_yb.append(sum)\n",
    "    Q_y.append(Q_yb)"
   ]
  },
  {
   "cell_type": "markdown",
   "id": "71227182",
   "metadata": {},
   "source": [
    "## Plot"
   ]
  },
  {
   "cell_type": "code",
   "execution_count": null,
   "id": "51055957",
   "metadata": {},
   "outputs": [],
   "source": [
    "for i in range(10):  \n",
    "    plt.plot(\n",
    "        interpolate(list(range(0,100,10)),Q_y[i])[0],interpolate(list(range(0,100,10)),Q_y[i])[1]\n",
    "    )\n",
    "plt.xticks(range(0,100,10))\n",
    "plt.legend([\"gamma=0\",\n",
    "            \"gamma=10\",\n",
    "            \"gamma=20\",\n",
    "            \"gamma=30\",\n",
    "            \"gamma=40\",\n",
    "            \"gamma=50\",\n",
    "            \"gamma=60\",\n",
    "            \"gamma=70\",\n",
    "            \"gamma=80\",\n",
    "            \"gamma=90\"])\n",
    "plt.title(f\"Yearly analysis\")\n",
    "plt.xlabel(\"Tilt angle\")\n",
    "plt.ylabel(\"qu (MJ/Day.m^2)\")\n",
    "plt.show()"
   ]
  },
  {
   "cell_type": "markdown",
   "id": "dc751c9e",
   "metadata": {},
   "source": [
    "### Find the optimum Beta and Gamma for maximum Q yearly"
   ]
  },
  {
   "cell_type": "code",
   "execution_count": null,
   "id": "4b1f961a",
   "metadata": {
    "scrolled": true
   },
   "outputs": [],
   "source": [
    "mx = list(map(max,Q_y))\n",
    "gmx = max(mx)\n",
    "gam_ind = mx.index(gmx)\n",
    "gam_opt_y = gam_ind*10\n",
    "be_opt_y = Q_y[gam_ind].index(gmx)*10   "
   ]
  },
  {
   "cell_type": "code",
   "execution_count": null,
   "id": "03780b38",
   "metadata": {
    "scrolled": false
   },
   "outputs": [],
   "source": [
    "Optimum_data_y = pd.DataFrame(data= {\n",
    "    \"Optimum Tilt angle\": [be_opt_y],\n",
    "    \"Optimum Gamma\":[gam_opt_y],\n",
    "    \"Maximum rate of useful energy gain per year\" : [gmx]\n",
    "})\n",
    "Optimum_data_y.style.set_table_attributes(\"style = 'font-size:14px; font-weight:700; text-align:center'\").set_caption(\"Optimum Beta and Gamma for maximum Q yearly\")\n"
   ]
  },
  {
   "cell_type": "code",
   "execution_count": 7,
   "id": "2544b8f8",
   "metadata": {
    "scrolled": true
   },
   "outputs": [],
   "source": [
    "gamma = 20\n",
    "beta = 30\n",
    "phi = 30\n",
    "n_o_c = 1\n",
    "k = 0.0068\n",
    "ng = 1.526\n",
    "na = 1\n",
    "delC = 4\n",
    "roh_g = 0.2\n",
    "U = 5\n",
    "K = 385\n",
    "cpst = 0.5/1000\n",
    "Do= 11/1000\n",
    "Di= 10/1000\n",
    "cb = 35\n",
    "W = 150/1000\n",
    "mw = 0.015\n",
    "cw = 4180\n",
    "hci = 300\n",
    "twh=55\n",
    "vw = 250\n",
    "Twh=55\n",
    "thta_diff = 20\n",
    "if n_o_c == 1 :\n",
    "    roh_d = 0.15\n",
    "elif n_o_c == 2:\n",
    "    roh_d = 0.22\n",
    "elif n_o_c == 3: \n",
    "    roh_d = 0.24"
   ]
  },
  {
   "cell_type": "code",
   "execution_count": 8,
   "id": "8fc64763",
   "metadata": {
    "scrolled": true
   },
   "outputs": [],
   "source": [
    "Q_Months = []\n",
    "for i in range(12):\n",
    "    m = i+1\n",
    "    n = avg_d[m-1]\n",
    "    theta_in = []\n",
    "    theta_z_in = []\n",
    "    rb_in = []\n",
    "    I_total_in = []\n",
    "    thetadash_in = []\n",
    "    roh1_in = []\n",
    "    roh2_in = []\n",
    "    tau1_in = []\n",
    "    tau2_in = []\n",
    "    tau_r = []\n",
    "    tau_a_in = []\n",
    "    tau = []\n",
    "    alpha_in = []\n",
    "    tau_a_b_in = []\n",
    "    S_in = []\n",
    "    qu = []\n",
    "\n",
    "    # DIFFUSE\n",
    "    rd_in = rd(beta)\n",
    "    rr_in = rr(beta, roh_g)\n",
    "    tau_a_d_in = tau_alp_d(thta_diff, ng, na, n_o_c, k, delC, roh_d)\n",
    "\n",
    "    # TANK\n",
    "    L = (W-Do)/2\n",
    "    F = fin_eff(U,K,cpst,L)\n",
    "    F_d = collector_eff(U,W,L,F,Do,cb,Di,hci)\n",
    "    FR = hear_removal_factor(mw,cw,U,F_d)\n",
    "    for i in range(len(st)):\n",
    "        theta_in.append(theta(beta,decl(n),gamma,ha(st[i]),phi))\n",
    "        theta_z_in.append(theta_z(decl(n),gamma,ha(st[i]),phi))\n",
    "        if rb(n,st[i],beta ,gamma, phi) < 0:\n",
    "            rb_in.append(0)\n",
    "        else:\n",
    "            rb_in.append(rb(n,st[i],beta ,gamma, phi))\n",
    "        I_total_in.append(I_total(I[m-1][0][i],I[m-1][1][i],rb_in[i],rd(beta),rr(beta,0.2)))\n",
    "        thetadash_in.append(thetadash(ng,na,theta_in[i]))\n",
    "        roh1_in.append(roh1(theta_in[i],thetadash_in[i]))\n",
    "        roh2_in.append(roh2(theta_in[i],thetadash_in[i]))\n",
    "        tau1_in.append(tau1(roh1_in[i],n_o_c))\n",
    "        tau2_in.append(tau1(roh2_in[i],n_o_c))\n",
    "        tau_r.append((tau1_in[i]+tau2_in[i])*0.5)\n",
    "        tau_a_in.append(tau_a(thetadash_in[i],k,delC))\n",
    "        tau.append(tau_a_in[i]*tau_r[i])  \n",
    "        alpha_in.append(alpha(theta_in[i]))\n",
    "        tau_a_b_in.append(tau_alp_b(tau[i],alpha_in[i],roh_d))\n",
    "        S_in.append(S(I[m-1][0][i],I[m-1][1][i],rb_in[i], rd_in, rr_in, tau_a_b_in[i], tau_a_d_in))\n",
    "    ta = Ta_r[m-1][1] - DR[0]*(Ta_r[m-1][1]-Ta_r[m-1][0])/100\n",
    "    tw_n = [Twi[m-1]]\n",
    "    if FR*(S_in[0]-U*(Twi[m-1]-ta)) < 0 :\n",
    "        qu.append(0)\n",
    "    else:\n",
    "        qu.append(FR*(S_in[0]-U*(Twi[m-1]-ta)))\n",
    "\n",
    "    for i in range(1,len(st)): \n",
    "        two = tw_n[i-1]+(qu[i-1]/(mw*cw))\n",
    "        tw_n.append((two+tw_n[i-1])/2)\n",
    "        ta = Ta_r[m-1][1] - DR[i]*(Ta_r[m-1][1]-Ta_r[m-1][0])/100\n",
    "        if FR*(S_in[i]-U*(tw_n[i]-ta)) > 0: \n",
    "            qu.append(FR*(S_in[i]-U*(tw_n[i]-ta)))\n",
    "        else:\n",
    "            qu.append(0)\n",
    "    I_total_daily = sum(I_total_in[1:len(I_total_in)])*(3600/pow(10,6))\n",
    "    S_daily = sum(S_in[1:len(S_in)])*(3600/pow(10,6))\n",
    "    Q_daily = sum(qu[1:len(qu)])*(3600/pow(10,6))\n",
    "    Q_Months.append(Q_daily)"
   ]
  },
  {
   "cell_type": "code",
   "execution_count": 9,
   "id": "78a1f439",
   "metadata": {
    "scrolled": true
   },
   "outputs": [
    {
     "data": {
      "text/plain": [
       "[12.922776680302059,\n",
       " 14.190571407763185,\n",
       " 14.561212583098671,\n",
       " 14.671820901834991,\n",
       " 14.53130211612262,\n",
       " 14.06426088117117,\n",
       " 13.884270639675238,\n",
       " 14.320414652331511,\n",
       " 14.492725329356004,\n",
       " 13.66850886352947,\n",
       " 12.313216353323076,\n",
       " 11.726430593511777]"
      ]
     },
     "execution_count": 9,
     "metadata": {},
     "output_type": "execute_result"
    }
   ],
   "source": [
    "Q_Months"
   ]
  },
  {
   "cell_type": "code",
   "execution_count": 10,
   "id": "4e701dc0",
   "metadata": {
    "scrolled": true
   },
   "outputs": [],
   "source": [
    "days_in = [31, 28,31,30,31,30,31,31,30,31,30,31]"
   ]
  },
  {
   "cell_type": "code",
   "execution_count": 11,
   "id": "31feba1f",
   "metadata": {
    "scrolled": true
   },
   "outputs": [],
   "source": [
    "monthly_de = []\n",
    "monthly_s = []\n",
    "for i in range(12):\n",
    "    m = i + 1\n",
    "    demand = vw*cw*(Twh-Twi[i])*days_in[i]/1000000\n",
    "    monthly_s.append(Q_Months[i]*days_in[i]*3)\n",
    "    monthly_de.append(demand)"
   ]
  },
  {
   "cell_type": "code",
   "execution_count": 12,
   "id": "2dd2a495",
   "metadata": {
    "scrolled": true
   },
   "outputs": [
    {
     "data": {
      "text/plain": [
       "[1302.279,\n",
       " 1138.214,\n",
       " 1153.262,\n",
       " 1012.605,\n",
       " 994.5265,\n",
       " 862.125,\n",
       " 858.4675,\n",
       " 832.5515,\n",
       " 849.585,\n",
       " 939.455,\n",
       " 1053.36,\n",
       " 1211.573]"
      ]
     },
     "execution_count": 12,
     "metadata": {},
     "output_type": "execute_result"
    }
   ],
   "source": [
    "monthly_de"
   ]
  },
  {
   "cell_type": "code",
   "execution_count": 13,
   "id": "c12296ae",
   "metadata": {
    "scrolled": true
   },
   "outputs": [
    {
     "data": {
      "text/plain": [
       "[1201.8182312680915,\n",
       " 1192.0079982521074,\n",
       " 1354.1927702281764,\n",
       " 1320.4638811651491,\n",
       " 1351.4110967994036,\n",
       " 1265.7834793054053,\n",
       " 1291.237169489797,\n",
       " 1331.7985626668305,\n",
       " 1304.3452796420404,\n",
       " 1271.1713243082406,\n",
       " 1108.189471799077,\n",
       " 1090.5580451965952]"
      ]
     },
     "execution_count": 13,
     "metadata": {},
     "output_type": "execute_result"
    }
   ],
   "source": [
    "monthly_s"
   ]
  },
  {
   "cell_type": "code",
   "execution_count": 14,
   "id": "de4c42d0",
   "metadata": {
    "scrolled": false
   },
   "outputs": [
    {
     "name": "stdout",
     "output_type": "stream",
     "text": [
      "-100.4607687319085\n",
      "53.793998252107485\n",
      "200.93077022817647\n",
      "307.8588811651491\n",
      "356.88459679940354\n",
      "403.6584793054053\n",
      "432.769669489797\n",
      "499.2470626668305\n",
      "454.76027964204036\n",
      "331.7163243082406\n",
      "54.829471799077055\n",
      "-121.01495480340486\n"
     ]
    }
   ],
   "source": [
    "for i in range(12):\n",
    "    print(monthly_s[i]-monthly_de[i])"
   ]
  },
  {
   "cell_type": "code",
   "execution_count": 45,
   "id": "b4bd2c18",
   "metadata": {},
   "outputs": [
    {
     "data": {
      "image/png": "[encoded data removed]",
      "text/plain": [
       "<Figure size 640x480 with 1 Axes>"
      ]
     },
     "metadata": {},
     "output_type": "display_data"
    }
   ],
   "source": [
    "plt.plot(\n",
    "    interpolate(np.arange(1,13,1), monthly_de)[0],interpolate(np.arange(1,13,1), monthly_de)[1]\n",
    ")\n",
    "plt.plot(\n",
    "    interpolate(np.arange(1,13,1), monthly_s)[0],interpolate(np.arange(1,13,1), monthly_s)[1]\n",
    ")\n",
    "plt.xlim([1,12])\n",
    "plt.xticks(np.arange(1,13,1))\n",
    "plt.title(\"Supply and Demand Energy for each month\")\n",
    "plt.xlabel(\"Month\")\n",
    "plt.ylabel(\"Useful energy rate (KW)\")\n",
    "plt.legend([\"Demand\",\"Supply\"])\n",
    "plt.savefig(\"Supply and Demand.png\")\n",
    "plt.show()\n"
   ]
  },
  {
   "cell_type": "code",
   "execution_count": 46,
   "id": "7a719d57",
   "metadata": {},
   "outputs": [
    {
     "name": "stdout",
     "output_type": "stream",
     "text": [
      "Shortage = 94.9688414887031 Watt\n"
     ]
    }
   ],
   "source": [
    "cond1 = ((interpolate(np.arange(1,13,1), monthly_s)[1]<interpolate(np.arange(1,13,1), monthly_de)[1]) * (interpolate(np.arange(1,13,1), monthly_s)[0]<2))\n",
    "cond2 = ((interpolate(np.arange(1,13,1), monthly_s)[1]<interpolate(np.arange(1,13,1), monthly_de)[1]) * (interpolate(np.arange(1,13,1), monthly_s)[0]>11))\n",
    "sup1 = simpson(interpolate(np.arange(1,13,1), monthly_s)[1][cond1], x=interpolate(np.arange(1,13,1), monthly_s)[0][cond1])\n",
    "dem1 = simpson(interpolate(np.arange(1,13,1), monthly_de)[1][cond1], x=interpolate(np.arange(1,13,1), monthly_de)[0][cond1])\n",
    "sup2 = simpson(interpolate(np.arange(1,13,1), monthly_s)[1][cond2], x=interpolate(np.arange(1,13,1), monthly_s)[0][cond2])\n",
    "dem2 = simpson(interpolate(np.arange(1,13,1), monthly_de)[1][cond2], x=interpolate(np.arange(1,13,1), monthly_de)[0][cond2])\n",
    "shortage = sup1+sup2-dem1-dem2\n",
    "print(\"Shortage =\", -shortage , \"Watt\")"
   ]
  },
  {
   "cell_type": "code",
   "execution_count": null,
   "id": "3dce1078",
   "metadata": {},
   "outputs": [],
   "source": []
  }
 ],
 "metadata": {
  "kernelspec": {
   "display_name": "Python 3 (ipykernel)",
   "language": "python",
   "name": "python3"
  },
  "language_info": {
   "codemirror_mode": {
    "name": "ipython",
    "version": 3
   },
   "file_extension": ".py",
   "mimetype": "text/x-python",
   "name": "python",
   "nbconvert_exporter": "python",
   "pygments_lexer": "ipython3",
   "version": "3.10.12"
  }
 },
 "nbformat": 4,
 "nbformat_minor": 5
}
