{
 "cells": [
  {
   "cell_type": "code",
   "execution_count": 4,
   "id": "d3fa45c4",
   "metadata": {},
   "outputs": [],
   "source": [
    "import math\n",
    "import matplotlib.pyplot as plt\n",
    "import numpy as np\n",
    "import pandas as pd"
   ]
  },
  {
   "cell_type": "code",
   "execution_count": 5,
   "id": "e8d5578b",
   "metadata": {},
   "outputs": [],
   "source": [
    "a_tab = [[300, 1.1614, 184.6, 15.89, 26.3, 0.707],[350,0.995,208.2,20.92,30,0.7]]\n",
    "w_tab = [[300, 1.003, 855, 613, 5.83, 0.857, 276.1],\n",
    "        [305, 1.005, 769, 620, 5.2, 0.865, 320.6],\n",
    "        [310, 1.007, 695, 628, 4.62, 0.873, 361.9],\n",
    "        [325, 1.013, 528, 645, 3.42, 0.901, 471.2],\n",
    "        [330, 1.016, 489, 650, 3.15, 0.908, 504]]"
   ]
  },
  {
   "cell_type": "code",
   "execution_count": 6,
   "id": "74532cb7",
   "metadata": {},
   "outputs": [],
   "source": [
    "def interpol(t , tab):\n",
    "    prob = []\n",
    "    a = 0\n",
    "    b = 1\n",
    "    for i in range(len(tab)-1):\n",
    "        if t>tab[i][0]:\n",
    "            if t<tab[i+1][0]:\n",
    "                a=i\n",
    "                b=i+1\n",
    "    if t>tab[(len(tab)-1)][0]:\n",
    "        a=len(tab)-2\n",
    "        b=len(tab)-1\n",
    "    for i in range(len(tab[0])):\n",
    "        prob.append(tab[b][i]-(((tab[b][0]-t)/(tab[b][0]-tab[a][0]))*(tab[b][i]-tab[a][i])))\n",
    "    return prob"
   ]
  },
  {
   "cell_type": "code",
   "execution_count": 7,
   "id": "0a4e1438",
   "metadata": {},
   "outputs": [],
   "source": [
    "def calc_h_w(probs):\n",
    "    mu = probs[2]*math.pow(10,-6) * probs[1]*math.pow(10,-3)\n",
    "    gr = (9.81*probs[2]*math.pow(10,-6)*(dTi)*math.pow(l,3))/math.pow(mu,2)\n",
    "    ra = gr * probs[4]\n",
    "    nu = 0.13*math.pow(ra,1/3)\n",
    "    h = nu*probs[3]/(l*1000)\n",
    "    return h"
   ]
  },
  {
   "cell_type": "code",
   "execution_count": 8,
   "id": "f6c11756",
   "metadata": {},
   "outputs": [],
   "source": [
    "def calc_h_a(probs):\n",
    "    v = 0.66667\n",
    "    re = v*d2/(probs[3]*math.pow(10,-6))\n",
    "    nu = 0.193*math.pow(re,0.618)*math.pow(probs[5],1/3)\n",
    "    h = nu*probs[4]/(l*1000)\n",
    "    return h"
   ]
  },
  {
   "cell_type": "markdown",
   "id": "84e4cd62",
   "metadata": {},
   "source": [
    "# Fixed Parameters "
   ]
  },
  {
   "cell_type": "code",
   "execution_count": 9,
   "id": "27138b48",
   "metadata": {},
   "outputs": [],
   "source": [
    "w = 1.25\n",
    "l=w\n",
    "#Volume\n",
    "vol = 220\n",
    "#k insulation\n",
    "k = 0.055\n",
    "#Temperatures\n",
    "tw = 55\n",
    "ta = 25\n",
    "#Operation hours and days\n",
    "op_Hours = 24\n",
    "op_Days = 365\n",
    "#Operation and fixed costs\n",
    "Ce = 1.4\n",
    "Ci = 185/3\n",
    "no_years = 10\n",
    "i_r = 0.1"
   ]
  },
  {
   "cell_type": "markdown",
   "id": "abc1bbe9",
   "metadata": {},
   "source": [
    "#  For testing "
   ]
  },
  {
   "cell_type": "code",
   "execution_count": 10,
   "id": "dd59b4cf",
   "metadata": {},
   "outputs": [],
   "source": [
    "# var Parameters\n",
    "delta = 5\n",
    "dTi = 0.1\n",
    "\n",
    "#Start of Calculations\n",
    "d1 = math.sqrt((4/math.pi)*(vol/1000)/l)\n",
    "tmi = tw - 0.5*dTi\n",
    "w_prob = interpol(tmi+273 , w_tab)\n",
    "hi = calc_h_w(w_prob)\n",
    "t1 = 55- dTi\n",
    "sa_i = math.pi*d1*l\n",
    "q1 = sa_i*hi*dTi\n",
    "r1 = d1/2\n",
    "r2 = d1/2 + delta/100\n",
    "d2 = r2*2\n",
    "sa_o = math.pi*d2*l\n",
    "for x in range(2):\n",
    "    if x ==0:\n",
    "        a_prob = interpol(ta+273 , a_tab)\n",
    "        ho = calc_h_a(a_prob)\n",
    "        t2 = (((2*math.pi*l*k*t1)/(math.log(r2/r1)))+sa_o*ho*ta)/(((2*math.pi*l*k)/(math.log(r2/r1)))+sa_o*ho)\n",
    "    else:\n",
    "        tmo = (ta+t2)/2\n",
    "        a_prob = interpol(tmo+273, a_tab)\n",
    "        ho = calc_h_a(a_prob)\n",
    "        t2 = (((2*math.pi*l*k*t1)/(math.log(r2/r1)))+sa_o*ho*ta)/(((2*math.pi*l*k)/(math.log(r2/r1)))+sa_o*ho)\n",
    "dTo = t2 - ta\n",
    "q3 = sa_o*ho*dTo\n",
    "E = abs(q3-q1)\n",
    "q_loss = .5*(q1+q3)\n",
    "q_loss_h = q_loss *3600\n",
    "co = (q_loss*op_Hours* op_Days)*Ce/1000\n",
    "p_v = 0.2*delta*50*sa_o\n",
    "R = (i_r*math.pow((1+i_r),no_years))/(math.pow((1+i_r),no_years)-1)\n",
    "cf = p_v*R\n",
    "ct = co + cf\n"
   ]
  },
  {
   "cell_type": "markdown",
   "id": "f9eb0b53",
   "metadata": {},
   "source": [
    "# Looping for dTi @delta = 5cm"
   ]
  },
  {
   "cell_type": "code",
   "execution_count": 11,
   "id": "58ba9e83",
   "metadata": {
    "scrolled": true
   },
   "outputs": [],
   "source": [
    "min_error = 9999999999999\n",
    "min_dt = 0\n",
    "for i in range(1000):\n",
    "   # var Parameters\n",
    "    delta = 5\n",
    "    dTi = 0 + 0.001*i\n",
    "    \n",
    "    #calculations\n",
    "    tmi = tw - 0.5*dTi\n",
    "    w_prob = interpol(tmi+273 , w_tab)\n",
    "    hi = calc_h_w(w_prob)\n",
    "    t1 = 55- dTi\n",
    "    sa_i = math.pi*d1*l\n",
    "    q1 = sa_i*hi*dTi\n",
    "    r1 = d1/2\n",
    "    r2 = d1/2 + delta/100\n",
    "    d2 = r2*2\n",
    "    t2 = (((2*math.pi*l*k*t1)/(math.log(r2/r1)))+sa_o*ho*ta)/(((2*math.pi*l*k)/(math.log(r2/r1)))+sa_o*ho)\n",
    "    tmo = (ta+t2)/2\n",
    "    a_prob = interpol(tmo+273 , a_tab)\n",
    "    ho = calc_h_a(a_prob)\n",
    "    d2 = r2*2\n",
    "    sa_o = math.pi*d2*l\n",
    "    for x in range(2):\n",
    "        if x ==0:\n",
    "            a_prob = interpol(ta+273 , a_tab)\n",
    "            ho = calc_h_a(a_prob)\n",
    "            t2 = (((2*math.pi*l*k*t1)/(math.log(r2/r1)))+sa_o*ho*ta)/(((2*math.pi*l*k)/(math.log(r2/r1)))+sa_o*ho)\n",
    "        else:\n",
    "            tmo = (ta+t2)/2\n",
    "            a_prob = interpol(tmo+273, a_tab)\n",
    "            ho = calc_h_a(a_prob)\n",
    "            t2 = (((2*math.pi*l*k*t1)/(math.log(r2/r1)))+sa_o*ho*ta)/(((2*math.pi*l*k)/(math.log(r2/r1)))+sa_o*ho)\n",
    "    dTo = t2 - ta\n",
    "    q3 = sa_o*ho*dTo\n",
    "    E = abs(q3-q1)\n",
    "    q_loss = .5*(q1+q3)\n",
    "    if E < min_error:\n",
    "        min_error = E\n",
    "        min_dt = dTi"
   ]
  },
  {
   "cell_type": "markdown",
   "id": "945ff185",
   "metadata": {},
   "source": [
    "# The min error &  dTi"
   ]
  },
  {
   "cell_type": "code",
   "execution_count": 12,
   "id": "7af66da5",
   "metadata": {},
   "outputs": [
    {
     "name": "stdout",
     "output_type": "stream",
     "text": [
      "The min error = 0.07570997144123481\n",
      "At dTi = 0.137\n"
     ]
    }
   ],
   "source": [
    "print(\"The min error =\" , min_error)\n",
    "print(\"At dTi =\" , min_dt)"
   ]
  },
  {
   "cell_type": "markdown",
   "id": "155439f2",
   "metadata": {},
   "source": [
    "# Parameters @ dTi_min"
   ]
  },
  {
   "cell_type": "code",
   "execution_count": 13,
   "id": "85699c4a",
   "metadata": {
    "scrolled": true
   },
   "outputs": [],
   "source": [
    "#Parameters\n",
    "#Width\n",
    "delta = 5\n",
    "dTi = min_dt\n",
    "\n",
    "#Start of Calculations\n",
    "d1 = math.sqrt((4/math.pi)*(vol/1000)/l)\n",
    "tmi = tw - 0.5*dTi\n",
    "w_prob = interpol(tmi+273 , w_tab)\n",
    "hi = calc_h_w(w_prob)\n",
    "t1 = 55- dTi\n",
    "sa_i = math.pi*d1*l\n",
    "q1 = sa_i*hi*dTi\n",
    "r1 = d1/2\n",
    "r2 = d1/2 + delta/100\n",
    "d2 = r2*2\n",
    "sa_o = math.pi*d2*l\n",
    "for x in range(2):\n",
    "    if x ==0:\n",
    "        a_prob = interpol(ta+273 , a_tab)\n",
    "        ho = calc_h_a(a_prob)\n",
    "        t2 = (((2*math.pi*l*k*t1)/(math.log(r2/r1)))+sa_o*ho*ta)/(((2*math.pi*l*k)/(math.log(r2/r1)))+sa_o*ho)\n",
    "    else:\n",
    "        tmo = (ta+t2)/2\n",
    "        a_prob = interpol(tmo+273, a_tab)\n",
    "        ho = calc_h_a(a_prob)\n",
    "        t2 = (((2*math.pi*l*k*t1)/(math.log(r2/r1)))+sa_o*ho*ta)/(((2*math.pi*l*k)/(math.log(r2/r1)))+sa_o*ho)\n",
    "dTo = t2 - ta\n",
    "q3 = sa_o*ho*dTo\n",
    "E = abs(q3-q1)\n",
    "q_loss = .5*(q1+q3)\n",
    "q_loss_h = q_loss *3600\n",
    "co = (q_loss*op_Hours* op_Days)*Ce/1000\n",
    "p_v = 0.2*delta*50*sa_o\n",
    "R = (i_r*math.pow((1+i_r),no_years))/(math.pow((1+i_r),no_years)-1)\n",
    "cf = p_v*R\n",
    "ct = co + cf\n"
   ]
  },
  {
   "cell_type": "markdown",
   "id": "94b183e0",
   "metadata": {},
   "source": [
    "# Choose max delta"
   ]
  },
  {
   "cell_type": "code",
   "execution_count": 14,
   "id": "b745f664",
   "metadata": {},
   "outputs": [
    {
     "name": "stdout",
     "output_type": "stream",
     "text": [
      "max delta = 20\n"
     ]
    }
   ],
   "source": [
    "max_delta = 20\n",
    "#printing max delta\n",
    "print(\"max delta =\" , max_delta)"
   ]
  },
  {
   "cell_type": "markdown",
   "id": "bd48b9e3",
   "metadata": {},
   "source": [
    "\n",
    "# Looping on the range of delta and calculate cost"
   ]
  },
  {
   "cell_type": "code",
   "execution_count": 15,
   "id": "589843d4",
   "metadata": {},
   "outputs": [],
   "source": [
    "delta_step = 0.25"
   ]
  },
  {
   "cell_type": "code",
   "execution_count": 39,
   "id": "f941e87e",
   "metadata": {},
   "outputs": [],
   "source": [
    "#Volume\n",
    "dTi = min_dt\n",
    "q_loss_l = []\n",
    "co_l = []\n",
    "cf_l = []\n",
    "ct_l = []\n",
    "min_cost = 9999999999999999999\n",
    "ite = (max_delta/delta_step)\n",
    "#varParameters\n",
    "for i in range(int(ite)):\n",
    "    delta = delta_step + delta_step*i\n",
    "\n",
    "    #Start of Calculations\n",
    "    d1 = math.sqrt((4/math.pi)*(vol/1000)/l)\n",
    "    tmi = tw - 0.5*dTi\n",
    "    w_prob = interpol(tmi+273 , w_tab)\n",
    "    hi = calc_h_w(w_prob)\n",
    "    t1 = 55- dTi\n",
    "    sa_i = math.pi*d1*l\n",
    "    q1 = sa_i*hi*dTi\n",
    "    r1 = d1/2\n",
    "    r2 = d1/2 + delta/100\n",
    "    d2 = r2*2\n",
    "    sa_o = math.pi*d2*l\n",
    "    for x in range(2):\n",
    "        if x ==0:\n",
    "            a_prob = interpol(ta+273 , a_tab)\n",
    "            ho = calc_h_a(a_prob)\n",
    "            t2 = (((2*math.pi*l*k*t1)/(math.log(r2/r1)))+sa_o*ho*ta)/(((2*math.pi*l*k)/(math.log(r2/r1)))+sa_o*ho)\n",
    "        else:\n",
    "            tmo = (ta+t2)/2\n",
    "            a_prob = interpol(tmo+273, a_tab)\n",
    "            ho = calc_h_a(a_prob)\n",
    "            t2 = (((2*math.pi*l*k*t1)/(math.log(r2/r1)))+sa_o*ho*ta)/(((2*math.pi*l*k)/(math.log(r2/r1)))+sa_o*ho)\n",
    "    dTo = t2 - ta\n",
    "    q3 = sa_o*ho*dTo\n",
    "    E = abs(q3-q1)\n",
    "    q_loss = .5*(q1+q3)\n",
    "    \n",
    "    #Calculate cost\n",
    "    q_loss_h = q_loss *3600\n",
    "    co = (q_loss*op_Hours* op_Days)*Ce/1000\n",
    "    p_v = delta*Ci*3.4\n",
    "    R = (i_r*math.pow((1+i_r),no_years))/(math.pow((1+i_r),no_years)-1)\n",
    "    R = 0.2\n",
    "    cf = p_v*R\n",
    "    ct = co + cf\n",
    "    if ct < min_cost:\n",
    "        min_cost = ct\n",
    "        min_cf = cf\n",
    "        min_co = co\n",
    "        min_delta = delta\n",
    "        min_q_loss = q_loss\n",
    "    co_l.append(co)\n",
    "    cf_l.append(cf)\n",
    "    ct_l.append(ct)\n",
    "    q_loss_l.append(q_loss)\n"
   ]
  },
  {
   "cell_type": "code",
   "execution_count": 40,
   "id": "4e4bdbb2",
   "metadata": {},
   "outputs": [
    {
     "name": "stdout",
     "output_type": "stream",
     "text": [
      "min cost @ delta= 3.0 cm\n",
      "min total cost = 727.36 EGP\n",
      "min fixed cost = 125.8 EGP\n",
      "min operating cost = 601.56 EGP\n",
      "Q_loss = 49.05 W\n"
     ]
    }
   ],
   "source": [
    "#Print min cost & min delta\n",
    "print(\"min cost @ delta=\" , min_delta , \"cm\")\n",
    "print(\"min total cost =\" , round(min_cost,2) , \"EGP\")\n",
    "print(\"min fixed cost =\" , round(min_cf,2) , \"EGP\")\n",
    "print(\"min operating cost =\" ,round(min_co,2), \"EGP\")\n",
    "print(\"Q_loss =\" , round(min_q_loss,2) , \"W\")\n"
   ]
  },
  {
   "cell_type": "code",
   "execution_count": 41,
   "id": "e4c4839c",
   "metadata": {},
   "outputs": [
    {
     "data": {
      "image/png": "[encoded data removed]",
      "text/plain": [
       "<Figure size 640x480 with 1 Axes>"
      ]
     },
     "metadata": {},
     "output_type": "display_data"
    }
   ],
   "source": [
    "plt.plot(np.arange(delta_step,max_delta+delta_step,delta_step), co_l)\n",
    "plt.plot(np.arange(delta_step,max_delta+delta_step,delta_step), cf_l)\n",
    "plt.plot(np.arange(delta_step,max_delta+delta_step,delta_step), ct_l)\n",
    "plt.xlabel(\"Insulation thickness in cm\")\n",
    "plt.ylabel(\"Cost (EGP/Year)\")\n",
    "plt.legend([\"Opreating Cost\", \"Fixed Cost\", \"Total Cost\"])\n",
    "plt.show()"
   ]
  },
  {
   "cell_type": "markdown",
   "id": "ba6a110f",
   "metadata": {},
   "source": [
    "# Put Data in dataframe"
   ]
  },
  {
   "cell_type": "code",
   "execution_count": 47,
   "id": "be801d5a",
   "metadata": {},
   "outputs": [],
   "source": [
    "cost_v = pd.DataFrame(data={\n",
    "    \"Thickness of insulation (cm)\":np.arange(delta_step,max_delta+delta_step,delta_step),\n",
    "    \"Energy loss rate (watt)\": q_loss_l,\n",
    "    \"Operation Cost (EGP)\": co_l,\n",
    "    \"Fixed Cost (EGP)\": cf_l,\n",
    "    \"Total Cost (EGP)\": ct_l,\n",
    "})"
   ]
  },
  {
   "cell_type": "markdown",
   "id": "7cca6275",
   "metadata": {},
   "source": [
    "# Cost variation with thickness of isulation"
   ]
  },
  {
   "cell_type": "code",
   "execution_count": 52,
   "id": "f599e9c3",
   "metadata": {},
   "outputs": [
    {
     "data": {
      "text/html": [
       "<div>\n",
       "<style scoped>\n",
       "    .dataframe tbody tr th:only-of-type {\n",
       "        vertical-align: middle;\n",
       "    }\n",
       "\n",
       "    .dataframe tbody tr th {\n",
       "        vertical-align: top;\n",
       "    }\n",
       "\n",
       "    .dataframe thead th {\n",
       "        text-align: right;\n",
       "    }\n",
       "</style>\n",
       "<table border=\"1\" class=\"dataframe\">\n",
       "  <thead>\n",
       "    <tr style=\"text-align: right;\">\n",
       "      <th></th>\n",
       "      <th>Thickness of insulation (cm)</th>\n",
       "      <th>Energy loss rate (watt)</th>\n",
       "      <th>Operation Cost (EGP)</th>\n",
       "      <th>Fixed Cost (EGP)</th>\n",
       "      <th>Total Cost (EGP)</th>\n",
       "    </tr>\n",
       "  </thead>\n",
       "  <tbody>\n",
       "    <tr>\n",
       "      <th>9</th>\n",
       "      <td>2.5</td>\n",
       "      <td>50.913333</td>\n",
       "      <td>624.401110</td>\n",
       "      <td>104.833333</td>\n",
       "      <td>729.234444</td>\n",
       "    </tr>\n",
       "    <tr>\n",
       "      <th>11</th>\n",
       "      <td>3.0</td>\n",
       "      <td>49.050857</td>\n",
       "      <td>601.559709</td>\n",
       "      <td>125.800000</td>\n",
       "      <td>727.359709</td>\n",
       "    </tr>\n",
       "    <tr>\n",
       "      <th>13</th>\n",
       "      <td>3.5</td>\n",
       "      <td>47.428615</td>\n",
       "      <td>581.664535</td>\n",
       "      <td>146.766667</td>\n",
       "      <td>728.431202</td>\n",
       "    </tr>\n",
       "    <tr>\n",
       "      <th>15</th>\n",
       "      <td>4.0</td>\n",
       "      <td>46.003364</td>\n",
       "      <td>564.185257</td>\n",
       "      <td>167.733333</td>\n",
       "      <td>731.918591</td>\n",
       "    </tr>\n",
       "    <tr>\n",
       "      <th>17</th>\n",
       "      <td>4.5</td>\n",
       "      <td>44.741576</td>\n",
       "      <td>548.710683</td>\n",
       "      <td>188.700000</td>\n",
       "      <td>737.410683</td>\n",
       "    </tr>\n",
       "    <tr>\n",
       "      <th>19</th>\n",
       "      <td>5.0</td>\n",
       "      <td>43.616869</td>\n",
       "      <td>534.917280</td>\n",
       "      <td>209.666667</td>\n",
       "      <td>744.583946</td>\n",
       "    </tr>\n",
       "  </tbody>\n",
       "</table>\n",
       "</div>"
      ],
      "text/plain": [
       "    Thickness of insulation (cm)  Energy loss rate (watt)   \n",
       "9                            2.5                50.913333  \\\n",
       "11                           3.0                49.050857   \n",
       "13                           3.5                47.428615   \n",
       "15                           4.0                46.003364   \n",
       "17                           4.5                44.741576   \n",
       "19                           5.0                43.616869   \n",
       "\n",
       "    Operation Cost (EGP)  Fixed Cost (EGP)  Total Cost (EGP)  \n",
       "9             624.401110        104.833333        729.234444  \n",
       "11            601.559709        125.800000        727.359709  \n",
       "13            581.664535        146.766667        728.431202  \n",
       "15            564.185257        167.733333        731.918591  \n",
       "17            548.710683        188.700000        737.410683  \n",
       "19            534.917280        209.666667        744.583946  "
      ]
     },
     "execution_count": 52,
     "metadata": {},
     "output_type": "execute_result"
    }
   ],
   "source": [
    "cost_v.loc[cost_v['Thickness of insulation (cm)'].isin(np.arange(2.5,5.25,0.5))]"
   ]
  },
  {
   "cell_type": "code",
   "execution_count": null,
   "id": "235fd0b4",
   "metadata": {},
   "outputs": [],
   "source": []
  }
 ],
 "metadata": {
  "kernelspec": {
   "display_name": "Python 3 (ipykernel)",
   "language": "python",
   "name": "python3"
  },
  "language_info": {
   "codemirror_mode": {
    "name": "ipython",
    "version": 3
   },
   "file_extension": ".py",
   "mimetype": "text/x-python",
   "name": "python",
   "nbconvert_exporter": "python",
   "pygments_lexer": "ipython3",
   "version": "3.10.12"
  }
 },
 "nbformat": 4,
 "nbformat_minor": 5
}
